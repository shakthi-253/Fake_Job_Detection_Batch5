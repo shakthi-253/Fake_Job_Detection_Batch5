{
  "nbformat": 4,
  "nbformat_minor": 0,
  "metadata": {
    "colab": {
      "provenance": [],
      "authorship_tag": "ABX9TyOuoM2na48cpP+ogwXWjf32",
      "include_colab_link": true
    },
    "kernelspec": {
      "name": "python3",
      "display_name": "Python 3"
    },
    "language_info": {
      "name": "python"
    }
  },
  "cells": [
    {
      "cell_type": "markdown",
      "metadata": {
        "id": "view-in-github",
        "colab_type": "text"
      },
      "source": [
        "<a href=\"https://colab.research.google.com/github/shakthi-253/Fake_Job_Detection_Batch5/blob/main/Untitled19.ipynb\" target=\"_parent\"><img src=\"https://colab.research.google.com/assets/colab-badge.svg\" alt=\"Open In Colab\"/></a>"
      ]
    },
    {
      "cell_type": "code",
      "execution_count": null,
      "metadata": {
        "id": "BdYWJ5O5nSa4"
      },
      "outputs": [],
      "source": [
        "import contractions\n",
        "\n",
        "def clean_text(s):\n",
        "    s = s.lower()\n",
        "    s = contractions.fix(s)                   # expand contractions\n",
        "    s = re.sub(r'<[^>]+>', ' ', s)            # remove HTML\n",
        "    s = re.sub(r'http\\S+|www\\S+', ' ', s)     # remove URLs\n",
        "    s = re.sub(r'[^a-z\\s]', ' ', s)           # keep only letters\n",
        "    s = re.sub(r'(.)\\1{2,}', r'\\1\\1', s)      # normalize repeated chars (cooool -> cool)\n",
        "    s = re.sub(r'\\s+', ' ', s).strip()\n",
        "    return s\n",
        "\n",
        "def preprocess(s):\n",
        "    tokens = word_tokenize(s)\n",
        "    tokens = [t for t in tokens if t.isalpha() and t not in stop_words and len(t) > 1]\n",
        "    tokens = [lemmatizer.lemmatize(t) for t in tokens]\n",
        "    return \" \".join(tokens)\n",
        "\n",
        "# Apply preprocessing\n",
        "df['cleaned'] = df['text'].apply(clean_text)\n",
        "df['processed'] = df['cleaned'].apply(preprocess)"
      ]
    }
  ]
}